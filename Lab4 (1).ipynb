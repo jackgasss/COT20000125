{
  "cells": [
    {
      "cell_type": "code",
      "execution_count": null,
      "id": "a0fbd074-5bd9-42fd-ab6e-5f523b276d3e",
      "metadata": {
        "id": "a0fbd074-5bd9-42fd-ab6e-5f523b276d3e",
        "outputId": "74644f26-0fe8-4b04-caef-26ed0cb0b5bf"
      },
      "outputs": [
        {
          "name": "stdout",
          "output_type": "stream",
          "text": [
            "{8, 5, 6, 7}\n"
          ]
        }
      ],
      "source": [
        "my_set = {333, 22, 1}\n",
        "print(my_set)"
      ]
    },
    {
      "cell_type": "code",
      "execution_count": null,
      "id": "b8e2bf82-719d-47de-8d35-c239b001f1bb",
      "metadata": {
        "id": "b8e2bf82-719d-47de-8d35-c239b001f1bb",
        "outputId": "7b41bd5a-dc45-48a0-b365-501393cec51a"
      },
      "outputs": [
        {
          "name": "stdout",
          "output_type": "stream",
          "text": [
            "True\n",
            "False\n"
          ]
        }
      ],
      "source": [
        "print(8 in my_set)\n",
        "print(1 in my_set)"
      ]
    },
    {
      "cell_type": "code",
      "execution_count": null,
      "id": "a7c0f0fe-1533-4ba8-86f6-d936c6bc0c4f",
      "metadata": {
        "id": "a7c0f0fe-1533-4ba8-86f6-d936c6bc0c4f",
        "outputId": "f4021da4-d546-4028-e74c-a000086f888a"
      },
      "outputs": [
        {
          "name": "stdout",
          "output_type": "stream",
          "text": [
            "True\n",
            "True\n",
            "False\n",
            "False\n"
          ]
        }
      ],
      "source": [
        "subset = {8, 5}\n",
        "subset2 = {1, 2}\n",
        "print(subset.issubset(my_set))\n",
        "print(my_set.issuperset(subset))\n",
        "print(subset2.issubset(my_set))\n",
        "print(my_set.issuperset(subset2))"
      ]
    },
    {
      "cell_type": "code",
      "execution_count": null,
      "id": "ad819155-5c9b-4fba-b662-fead1e93d56a",
      "metadata": {
        "id": "ad819155-5c9b-4fba-b662-fead1e93d56a",
        "outputId": "decf7920-2f6b-4a13-af0e-ce32a28d81fc"
      },
      "outputs": [
        {
          "name": "stdout",
          "output_type": "stream",
          "text": [
            "Custom Union: {1, 2, 3, 4, 5, 6}\n",
            "Custom Intersection: {3, 4}\n",
            "Custom Difference: {1, 2}\n"
          ]
        }
      ],
      "source": [
        "set1 = {1, 2, 3, 4}\n",
        "set2 = {3, 4, 5, 6}\n",
        "\n",
        "union_result = set1.union(set2)\n",
        "intersection_result = set1.intersection(set2)\n",
        "difference_result = set1.difference(set2)\n",
        "\n",
        "print(\"Custom Union:\", union_result)\n",
        "print(\"Custom Intersection:\", intersection_result)\n",
        "print(\"Custom Difference:\", difference_result)"
      ]
    },
    {
      "cell_type": "code",
      "execution_count": null,
      "id": "96db2677-539d-4d31-b0ca-94e7747d44ab",
      "metadata": {
        "id": "96db2677-539d-4d31-b0ca-94e7747d44ab",
        "outputId": "5b48462b-bffe-4b81-dbbc-736ec69beda7"
      },
      "outputs": [
        {
          "name": "stdout",
          "output_type": "stream",
          "text": [
            "Cartesian Product: A x B = {(5, 7), (4, 6), (4, 7), (5, 6)}\n"
          ]
        }
      ],
      "source": [
        "A = {4, 5}\n",
        "B = {6, 7}\n",
        "cartesian_product = {(a, b) for a in A for b in B}\n",
        "print(\"Cartesian Product: A x B =\", cartesian_product)"
      ]
    },
    {
      "cell_type": "code",
      "execution_count": null,
      "id": "1a956c2e-6592-4265-8231-022918b815c3",
      "metadata": {
        "id": "1a956c2e-6592-4265-8231-022918b815c3",
        "outputId": "daeb9a73-9e2d-4757-a6c1-fe8d0ca82cbb"
      },
      "outputs": [
        {
          "data": {
            "image/png": "[encoded data removed]",
            "text/plain": [
              "<Figure size 640x480 with 1 Axes>"
            ]
          },
          "metadata": {},
          "output_type": "display_data"
        }
      ],
      "source": [
        "import matplotlib.pyplot as plt\n",
        "\n",
        "points = list(cartesian_product)\n",
        "x_coords = [x for x, y in points]\n",
        "y_coords = [y for x, y in points]\n",
        "\n",
        "plt.scatter(x_coords, y_coords)\n",
        "plt.title(\"Cartesian Plane\")\n",
        "plt.xlabel(\"X-axis\")\n",
        "plt.ylabel(\"Y-axis\")\n",
        "plt.grid(True)\n",
        "plt.show()"
      ]
    },
    {
      "cell_type": "code",
      "execution_count": null,
      "id": "fb0b1479-9118-4a62-ac05-110620ccdef8",
      "metadata": {
        "id": "fb0b1479-9118-4a62-ac05-110620ccdef8",
        "outputId": "01d0fbac-55d7-41f1-bf16-cd916386a801"
      },
      "outputs": [
        {
          "name": "stdout",
          "output_type": "stream",
          "text": [
            "Relation R: {(7, 9), (6, 8)}\n"
          ]
        }
      ],
      "source": [
        "A = {6, 7}\n",
        "B = {8, 9}\n",
        "\n",
        "R = {(6, 8), (7, 9)}\n",
        "print(\"Relation R:\", R)"
      ]
    },
    {
      "cell_type": "code",
      "execution_count": null,
      "id": "4010611d-c6e5-4f32-9198-a744b0be8908",
      "metadata": {
        "id": "4010611d-c6e5-4f32-9198-a744b0be8908",
        "outputId": "baa1066b-963d-4e84-9a47-f1bd6f44c640"
      },
      "outputs": [
        {
          "name": "stdout",
          "output_type": "stream",
          "text": [
            "f is a function: False\n"
          ]
        }
      ],
      "source": [
        "def is_function(relation, domain):\n",
        "    domain_elements = [pair[0] for pair in relation]\n",
        "    return all(domain_elements.count(e) == 1 for e in domain)\n",
        "\n",
        "A = {11, 12}\n",
        "B = {13, 14}\n",
        "\n",
        "f = {(3, 3), (8, 4)}\n",
        "\n",
        "print(\"f is a function:\", is_function(f, A))"
      ]
    }
  ],
  "metadata": {
    "kernelspec": {
      "display_name": "Python 3 (ipykernel)",
      "language": "python",
      "name": "python3"
    },
    "language_info": {
      "codemirror_mode": {
        "name": "ipython",
        "version": 3
      },
      "file_extension": ".py",
      "mimetype": "text/x-python",
      "name": "python",
      "nbconvert_exporter": "python",
      "pygments_lexer": "ipython3",
      "version": "3.12.7"
    },
    "colab": {
      "provenance": []
    }
  },
  "nbformat": 4,
  "nbformat_minor": 5
}